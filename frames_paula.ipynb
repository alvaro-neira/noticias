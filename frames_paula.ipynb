{
  "cells": [
    {
      "cell_type": "code",
      "execution_count": null,
      "metadata": {
        "id": "MVGXySZSEFK3"
      },
      "outputs": [],
      "source": [
        "import cv2\n",
        "import os\n",
        "import matplotlib.pyplot as plt\n",
        "from google.colab.patches import cv2_imshow # for image display\n",
        "import numpy as np\n",
        "import pandas as pd\n",
        "import cv2 as cv \n",
        "from skimage import io\n",
        "from PIL import Image \n",
        "import matplotlib.pylab as plt"
      ]
    },
    {
      "cell_type": "code",
      "execution_count": null,
      "metadata": {
        "colab": {
          "base_uri": "https://localhost:8080/"
        },
        "id": "utNT_QXsS8zO",
        "outputId": "da50fc72-558b-4045-a6c0-d133b1776e6b"
      },
      "outputs": [
        {
          "output_type": "stream",
          "name": "stdout",
          "text": [
            "Mounted at /content/drive\n"
          ]
        }
      ],
      "source": [
        "from google.colab import drive\n",
        "drive.mount('/content/drive', force_remount=True)"
      ]
    },
    {
      "cell_type": "code",
      "execution_count": null,
      "metadata": {
        "id": "2FpJjIiITJlH"
      },
      "outputs": [],
      "source": [
        "folder_img1 = '/content/drive/MyDrive/taller/2021_11_26_22/'\n",
        "folder_img2 = '/content/drive/MyDrive/taller/2021_12_13_21/'"
      ]
    },
    {
      "cell_type": "code",
      "execution_count": null,
      "metadata": {
        "id": "q_AxTuNU5obj"
      },
      "outputs": [],
      "source": [
        "from google.colab import auth\n",
        "auth.authenticate_user()\n",
        "\n",
        "import gspread\n",
        "from oauth2client.client import GoogleCredentials\n",
        "\n",
        "gc = gspread.authorize(GoogleCredentials.get_application_default())"
      ]
    },
    {
      "cell_type": "code",
      "execution_count": null,
      "metadata": {
        "id": "LEm9B0gX6T6q"
      },
      "outputs": [],
      "source": [
        "worksheet = gc.open('Etiquetado_2').sheet1"
      ]
    },
    {
      "cell_type": "code",
      "execution_count": null,
      "metadata": {
        "colab": {
          "base_uri": "https://localhost:8080/"
        },
        "id": "xKoEkzrI-Leo",
        "outputId": "e554b665-762d-4be2-ec93-1280ed6fdb0b"
      },
      "outputs": [
        {
          "output_type": "stream",
          "name": "stdout",
          "text": [
            "/content\n",
            "Cloning into 'noticias'...\n",
            "remote: Enumerating objects: 393, done.\u001b[K\n",
            "remote: Counting objects: 100% (393/393), done.\u001b[K\n",
            "remote: Compressing objects: 100% (276/276), done.\u001b[K\n",
            "remote: Total 393 (delta 199), reused 299 (delta 108), pack-reused 0\u001b[K\n",
            "Receiving objects: 100% (393/393), 204.84 MiB | 24.25 MiB/s, done.\n",
            "Resolving deltas: 100% (199/199), done.\n",
            "/content/noticias\n",
            "Fetching origin\n",
            "From https://github.com/alvaro-neira/noticias\n",
            " * branch            main       -> FETCH_HEAD\n",
            "Already up to date.\n",
            "Submodule 'Gender-and-Age-Detection' (https://github.com/alvaro-neira/Gender-and-Age-Detection.git) registered for path 'Gender-and-Age-Detection'\n",
            "Cloning into '/content/noticias/Gender-and-Age-Detection'...\n",
            "Submodule path 'Gender-and-Age-Detection': checked out 'b570b6f4c7f27af2b9c8f2fe36ba112b42f4dcb2'\n"
          ]
        }
      ],
      "source": [
        "%cd /content/\n",
        "!rm -rf noticias\n",
        "!git clone https://github.com/alvaro-neira/noticias.git\n",
        "%cd noticias/\n",
        "!git fetch --all\n",
        "!git pull origin main\n",
        "!git submodule init\n",
        "!git submodule update"
      ]
    },
    {
      "cell_type": "code",
      "execution_count": null,
      "metadata": {
        "id": "kIDuUUjYak3p"
      },
      "outputs": [],
      "source": [
        "from gender_and_age import GenderAndAge"
      ]
    },
    {
      "cell_type": "code",
      "source": [
        "rows = worksheet.get_all_values()"
      ],
      "metadata": {
        "id": "B002oNvyv8r9"
      },
      "execution_count": null,
      "outputs": []
    },
    {
      "cell_type": "code",
      "source": [
        "gaa = GenderAndAge('/content/noticias/Gender-and-Age-Detection')"
      ],
      "metadata": {
        "id": "x0CauMYFwju-"
      },
      "execution_count": null,
      "outputs": []
    },
    {
      "cell_type": "code",
      "source": [
        "gaa.set_hyperparameter('conf_threshold', 0.5)\n",
        "gaa.set_hyperparameter('gender_threshold', 0.6)\n",
        "\n",
        "import pandas as pd\n",
        "df=pd.DataFrame.from_records(rows)\n",
        "for index, row in df.iterrows():    \n",
        "    if index==0:\n",
        "        continue    \n",
        "    base = \"/content/drive/MyDrive/taller/resultados_015\"\n",
        "    filename = f\"{base}/result_2021_11_26_22_{row[0]}\"\n",
        "    image_swapped = io.imread(f\"{folder_img1}{row[0]}\") \n",
        "    image_2 = cv.cvtColor(image_swapped, cv.COLOR_BGR2RGB)\n",
        "    ret,fra=gaa.detect_for_colab(image_2)\n",
        "    final_frame = cv.hconcat((image_2, fra))\n",
        "    cv2_imshow(final_frame)\n",
        "    cv2.imwrite(filename, final_frame)\n",
        "    print(ret)\n",
        "    print('\\n')   "
      ],
      "metadata": {
        "id": "oRLkBbfpVSnu"
      },
      "execution_count": null,
      "outputs": []
    },
    {
      "cell_type": "code",
      "source": [
        "gaa.set_hyperparameter('conf_threshold', 0.15)\n",
        "for index, row in df.iterrows():    \n",
        "    if index==0:\n",
        "        continue    \n",
        "    base = \"/content/drive/MyDrive/taller/resultados_015\"\n",
        "    filename = f\"{base}/result_2021_12_13_21_{row[0]}\"\n",
        "    image_swapped = io.imread(f\"{folder_img2}{row[0]}\") \n",
        "    image_2 = cv.cvtColor(image_swapped, cv.COLOR_BGR2RGB)\n",
        "    ret,fra=gaa.detect_for_colab(image_2)\n",
        "    final_frame = cv.hconcat((image_2, fra))\n",
        "    cv2_imshow(final_frame)\n",
        "    cv2.imwrite(filename, final_frame)\n",
        "    print(ret)\n",
        "    print('\\n')   "
      ],
      "metadata": {
        "id": "jNCbLQrzVi8H"
      },
      "execution_count": null,
      "outputs": []
    },
    {
      "cell_type": "code",
      "source": [
        "gaa.set_hyperparameter('conf_threshold', 0.3)\n",
        "\n",
        "import pandas as pd\n",
        "df=pd.DataFrame.from_records(rows)\n",
        "for index, row in df.iterrows():    \n",
        "    if index==0:\n",
        "        continue    \n",
        "    base = \"/content/drive/MyDrive/taller/resultados_03\"\n",
        "    filename = f\"{base}/result_2021_11_26_22_{row[0]}\"\n",
        "    image_swapped = io.imread(f\"{folder_img1}{row[0]}\") \n",
        "    image_2 = cv.cvtColor(image_swapped, cv.COLOR_BGR2RGB)\n",
        "    ret,fra=gaa.detect_for_colab(image_2)\n",
        "    final_frame = cv.hconcat((image_2, fra))\n",
        "    cv2_imshow(final_frame)\n",
        "    cv2.imwrite(filename, final_frame)\n",
        "    print(ret)\n",
        "    print('\\n')   "
      ],
      "metadata": {
        "id": "8Xx6uQuIz47O"
      },
      "execution_count": null,
      "outputs": []
    },
    {
      "cell_type": "code",
      "source": [
        "gaa.set_hyperparameter('conf_threshold', 0.3)\n",
        "for index, row in df.iterrows():    \n",
        "    if index==0:\n",
        "        continue    \n",
        "    base = \"/content/drive/MyDrive/taller/resultados_03\"\n",
        "    filename = f\"{base}/result_2021_12_13_21_{row[0]}\"\n",
        "    image_swapped = io.imread(f\"{folder_img2}{row[0]}\") \n",
        "    image_2 = cv.cvtColor(image_swapped, cv.COLOR_BGR2RGB)\n",
        "    ret,fra=gaa.detect_for_colab(image_2)\n",
        "    final_frame = cv.hconcat((image_2, fra))\n",
        "    cv2_imshow(final_frame)\n",
        "    cv2.imwrite(filename, final_frame)\n",
        "    print(ret)\n",
        "    print('\\n')  "
      ],
      "metadata": {
        "id": "_frW_vLVzygz"
      },
      "execution_count": null,
      "outputs": []
    },
    {
      "cell_type": "code",
      "source": [
        "gaa.set_hyperparameter('conf_threshold', 0.5)\n",
        "\n",
        "import pandas as pd\n",
        "df=pd.DataFrame.from_records(rows)\n",
        "for index, row in df.iterrows():    \n",
        "    if index==0:\n",
        "        continue    \n",
        "    base = \"/content/drive/MyDrive/taller/resultados_05\"\n",
        "    filename = f\"{base}/result_2021_11_26_22_{row[0]}\"\n",
        "    image_swapped = io.imread(f\"{folder_img1}{row[0]}\") \n",
        "    image_2 = cv.cvtColor(image_swapped, cv.COLOR_BGR2RGB)\n",
        "    ret,fra=gaa.detect_for_colab(image_2)\n",
        "    final_frame = cv.hconcat((image_2, fra))\n",
        "    cv2_imshow(final_frame)\n",
        "    cv2.imwrite(filename, final_frame)\n",
        "    print(ret)\n",
        "    print('\\n')   "
      ],
      "metadata": {
        "id": "XcwFDvOZ0IRh"
      },
      "execution_count": null,
      "outputs": []
    },
    {
      "cell_type": "code",
      "source": [
        "gaa.set_hyperparameter('conf_threshold', 0.5)\n",
        "for index, row in df.iterrows():    \n",
        "    if index==0:\n",
        "        continue    \n",
        "    base = \"/content/drive/MyDrive/taller/resultados_05\"\n",
        "    filename = f\"{base}/result_2021_12_13_21_{row[0]}\"\n",
        "    image_swapped = io.imread(f\"{folder_img2}{row[0]}\") \n",
        "    image_2 = cv.cvtColor(image_swapped, cv.COLOR_BGR2RGB)\n",
        "    ret,fra=gaa.detect_for_colab(image_2)\n",
        "    final_frame = cv.hconcat((image_2, fra))\n",
        "    cv2_imshow(final_frame)\n",
        "    cv2.imwrite(filename, final_frame)\n",
        "    print(ret)\n",
        "    print('\\n')  "
      ],
      "metadata": {
        "id": "usQLGo4t0L0D"
      },
      "execution_count": null,
      "outputs": []
    },
    {
      "cell_type": "code",
      "source": [
        "gaa.set_hyperparameter('conf_threshold', 0.9)\n",
        "\n",
        "import pandas as pd\n",
        "df=pd.DataFrame.from_records(rows)\n",
        "for index, row in df.iterrows():    \n",
        "    if index==0:\n",
        "        continue    \n",
        "    base = \"/content/drive/MyDrive/taller/resultados_09\"\n",
        "    filename = f\"{base}/result_2021_11_26_22_{row[0]}\"\n",
        "    image_swapped = io.imread(f\"{folder_img1}{row[0]}\") \n",
        "    image_2 = cv.cvtColor(image_swapped, cv.COLOR_BGR2RGB)\n",
        "    ret,fra=gaa.detect_for_colab(image_2)\n",
        "    final_frame = cv.hconcat((image_2, fra))\n",
        "    cv2_imshow(final_frame)\n",
        "    cv2.imwrite(filename, final_frame)\n",
        "    print(ret)\n",
        "    print('\\n')   "
      ],
      "metadata": {
        "id": "C4ESUJ-Z0Okm"
      },
      "execution_count": null,
      "outputs": []
    },
    {
      "cell_type": "code",
      "source": [
        "gaa.set_hyperparameter('conf_threshold', 0.9)\n",
        "for index, row in df.iterrows():    \n",
        "    if index==0:\n",
        "        continue    \n",
        "    base = \"/content/drive/MyDrive/taller/resultados_09\"\n",
        "    filename = f\"{base}/result_2021_12_13_21_{row[0]}\"\n",
        "    image_swapped = io.imread(f\"{folder_img2}{row[0]}\") \n",
        "    image_2 = cv.cvtColor(image_swapped, cv.COLOR_BGR2RGB)\n",
        "    ret,fra=gaa.detect_for_colab(image_2)\n",
        "    final_frame = cv.hconcat((image_2, fra))\n",
        "    cv2_imshow(final_frame)\n",
        "    cv2.imwrite(filename, final_frame)\n",
        "    print(ret)\n",
        "    print('\\n')  "
      ],
      "metadata": {
        "id": "OPqJX-gW0TUx"
      },
      "execution_count": null,
      "outputs": []
    }
  ],
  "metadata": {
    "accelerator": "GPU",
    "colab": {
      "collapsed_sections": [],
      "machine_shape": "hm",
      "name": "frames_paula.ipynb",
      "provenance": []
    },
    "kernelspec": {
      "display_name": "Python 3",
      "name": "python3"
    },
    "language_info": {
      "name": "python"
    }
  },
  "nbformat": 4,
  "nbformat_minor": 0
}