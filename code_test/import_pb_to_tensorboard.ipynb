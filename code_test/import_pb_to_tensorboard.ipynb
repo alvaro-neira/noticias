{
  "nbformat": 4,
  "nbformat_minor": 0,
  "metadata": {
    "colab": {
      "name": "import_pb_to_tensorboard",
      "provenance": [],
      "collapsed_sections": [],
      "machine_shape": "hm"
    },
    "kernelspec": {
      "name": "python3",
      "display_name": "Python 3"
    },
    "language_info": {
      "name": "python"
    },
    "accelerator": "GPU"
  },
  "cells": [
    {
      "cell_type": "markdown",
      "source": [
        "# Imports a protobuf model as a graph in Tensorboard.\n"
      ],
      "metadata": {
        "id": "uN3gEuOfOaJc"
      }
    },
    {
      "cell_type": "code",
      "execution_count": 28,
      "metadata": {
        "id": "GFekMVlvHLzV"
      },
      "outputs": [],
      "source": [
        "%tensorflow_version 1.x"
      ]
    },
    {
      "cell_type": "code",
      "source": [
        "# Load the TensorBoard notebook extension.\n",
        "%load_ext tensorboard"
      ],
      "metadata": {
        "colab": {
          "base_uri": "https://localhost:8080/"
        },
        "id": "cB4RLedcMDIA",
        "outputId": "02fbf77a-2000-4b23-e35d-9017167d6146"
      },
      "execution_count": 29,
      "outputs": [
        {
          "output_type": "stream",
          "name": "stdout",
          "text": [
            "The tensorboard extension is already loaded. To reload it, use:\n",
            "  %reload_ext tensorboard\n"
          ]
        }
      ]
    },
    {
      "cell_type": "code",
      "source": [
        "import tensorflow\n",
        "print(tensorflow.__version__)\n",
        "import tensorboard\n",
        "print(tensorboard.__version__)"
      ],
      "metadata": {
        "colab": {
          "base_uri": "https://localhost:8080/"
        },
        "id": "5Odv8y7hHgrk",
        "outputId": "5caa0fbd-ee81-4191-b38b-ba8fa11388c4"
      },
      "execution_count": 30,
      "outputs": [
        {
          "output_type": "stream",
          "name": "stdout",
          "text": [
            "1.15.2\n",
            "1.15.0\n"
          ]
        }
      ]
    },
    {
      "cell_type": "code",
      "source": [
        "MODEL_FILENAME = 'opencv_face_detector_uint8.pb'\n",
        "LOGDIR = '/content/logs'\n",
        "# Clear any logs from previous runs\n",
        "%cd /content/\n",
        "!rm -rf ./logs/ "
      ],
      "metadata": {
        "id": "-hDOA0taJG4o",
        "colab": {
          "base_uri": "https://localhost:8080/"
        },
        "outputId": "b8ee56a7-74d9-427a-fefe-5c81d432a934"
      },
      "execution_count": 31,
      "outputs": [
        {
          "output_type": "stream",
          "name": "stdout",
          "text": [
            "/content\n"
          ]
        }
      ]
    },
    {
      "cell_type": "code",
      "source": [
        "import sys\n",
        "from absl import app\n",
        "\n",
        "from tensorflow.python.client import session\n",
        "from tensorflow.python.framework import importer\n",
        "from tensorflow.python.framework import ops\n",
        "from tensorflow.python.summary import summary\n",
        "from tensorflow.python.tools import saved_model_utils"
      ],
      "metadata": {
        "id": "wZEG2opEPHlE"
      },
      "execution_count": 33,
      "outputs": []
    },
    {
      "cell_type": "code",
      "source": [
        "def import_to_tensorboard(model_dir, log_dir, tag_set):\n",
        "  \"\"\"View an SavedModel as a graph in Tensorboard.\n",
        "  Args:\n",
        "    model_dir: The directory containing the SavedModel to import.\n",
        "    log_dir: The location for the Tensorboard log to begin visualization from.\n",
        "    tag_set: Group of tag(s) of the MetaGraphDef to load, in string format,\n",
        "      separated by ','. For tag-set contains multiple tags, all tags must be\n",
        "      passed in.\n",
        "  Usage: Call this function with your SavedModel location and desired log\n",
        "    directory. Launch Tensorboard by pointing it to the log directory. View your\n",
        "    imported SavedModel as a graph.\n",
        "  \"\"\"\n",
        "  with session.Session(graph=ops.Graph()) as sess:\n",
        "    input_graph_def = saved_model_utils.get_meta_graph_def(model_dir,\n",
        "                                                           tag_set).graph_def\n",
        "    importer.import_graph_def(input_graph_def)\n",
        "\n",
        "    pb_visual_writer = summary.FileWriter(log_dir)\n",
        "    pb_visual_writer.add_graph(sess.graph)\n",
        "    print(\"Model Imported. Visualize by running: \"\n",
        "          \"tensorboard --logdir={}\".format(log_dir))"
      ],
      "metadata": {
        "id": "f41QjptcOtPg"
      },
      "execution_count": 34,
      "outputs": []
    }
  ]
}