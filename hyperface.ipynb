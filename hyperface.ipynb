{
  "nbformat": 4,
  "nbformat_minor": 0,
  "metadata": {
    "colab": {
      "name": "hyperface.ipynb",
      "provenance": [],
      "machine_shape": "hm"
    },
    "kernelspec": {
      "name": "python3",
      "display_name": "Python 3"
    },
    "language_info": {
      "name": "python"
    },
    "accelerator": "GPU"
  },
  "cells": [
    {
      "cell_type": "code",
      "execution_count": 1,
      "metadata": {
        "colab": {
          "base_uri": "https://localhost:8080/"
        },
        "id": "ZlZAJWShOWLP",
        "outputId": "3245765d-eb06-490c-f44a-b6b3ceb01973"
      },
      "outputs": [
        {
          "output_type": "stream",
          "name": "stdout",
          "text": [
            "Collecting chainer==7.7.0\n",
            "  Downloading chainer-7.7.0.tar.gz (11.2 MB)\n",
            "\u001b[K     |████████████████████████████████| 11.2 MB 6.0 MB/s \n",
            "\u001b[?25hRequirement already satisfied: setuptools in /usr/local/lib/python3.7/dist-packages (from chainer==7.7.0) (57.4.0)\n",
            "Requirement already satisfied: typing_extensions in /usr/local/lib/python3.7/dist-packages (from chainer==7.7.0) (3.10.0.2)\n",
            "Requirement already satisfied: filelock in /usr/local/lib/python3.7/dist-packages (from chainer==7.7.0) (3.4.2)\n",
            "Requirement already satisfied: numpy>=1.9.0 in /usr/local/lib/python3.7/dist-packages (from chainer==7.7.0) (1.19.5)\n",
            "Requirement already satisfied: protobuf>=3.0.0 in /usr/local/lib/python3.7/dist-packages (from chainer==7.7.0) (3.17.3)\n",
            "Requirement already satisfied: six>=1.9.0 in /usr/local/lib/python3.7/dist-packages (from chainer==7.7.0) (1.15.0)\n",
            "Building wheels for collected packages: chainer\n",
            "  Building wheel for chainer (setup.py) ... \u001b[?25l\u001b[?25hdone\n",
            "  Created wheel for chainer: filename=chainer-7.7.0-py3-none-any.whl size=967522 sha256=893a4e9117dcf52af6ee62e4ae5981bcb77bfafaad996e5b65946c8b9fc4506a\n",
            "  Stored in directory: /root/.cache/pip/wheels/4f/c2/ca/e46a1181cc92ebe6e2d117a5cd29da5bcfc8464e00edb2cac0\n",
            "Successfully built chainer\n",
            "Installing collected packages: chainer\n",
            "Successfully installed chainer-7.7.0\n"
          ]
        }
      ],
      "source": [
        "!pip install chainer==7.7.0"
      ]
    },
    {
      "cell_type": "code",
      "source": [
        "import chainer"
      ],
      "metadata": {
        "id": "C93GXCDyOxmA"
      },
      "execution_count": 2,
      "outputs": []
    },
    {
      "cell_type": "code",
      "source": [
        "import cv2\n",
        "import csv\n",
        "import os\n",
        "import matplotlib.pyplot as plt\n",
        "from google.colab.patches import cv2_imshow # for image display\n",
        "import numpy as np\n",
        "import pandas as pd\n",
        "from skimage import io\n",
        "from PIL import Image "
      ],
      "metadata": {
        "id": "sQeGoB9yPL0-"
      },
      "execution_count": 3,
      "outputs": []
    },
    {
      "cell_type": "code",
      "source": [
        "from google.colab import drive\n",
        "drive.mount('/content/drive', force_remount=True)"
      ],
      "metadata": {
        "colab": {
          "base_uri": "https://localhost:8080/"
        },
        "id": "hQnkAPqPPhrF",
        "outputId": "6edeb7bf-8f79-4205-c27d-e73f34e8aca4"
      },
      "execution_count": 4,
      "outputs": [
        {
          "output_type": "stream",
          "name": "stdout",
          "text": [
            "Mounted at /content/drive\n"
          ]
        }
      ]
    },
    {
      "cell_type": "code",
      "source": [
        "%cd /content/\n",
        "!rm -rf hyperface\n",
        "!git clone https://github.com/alvaro-neira/hyperface.git --branch aneira\n",
        "%cd hyperface/\n",
        "!git fetch --all\n",
        "!git pull origin aneira\n"
      ],
      "metadata": {
        "colab": {
          "base_uri": "https://localhost:8080/"
        },
        "id": "JWuS35aWPzhq",
        "outputId": "0383eaea-d6a2-4649-8451-1a3e77a25937"
      },
      "execution_count": 5,
      "outputs": [
        {
          "output_type": "stream",
          "name": "stdout",
          "text": [
            "/content\n",
            "Cloning into 'hyperface'...\n",
            "remote: Enumerating objects: 256, done.\u001b[K\n",
            "remote: Counting objects: 100% (38/38), done.\u001b[K\n",
            "remote: Compressing objects: 100% (28/28), done.\u001b[K\n",
            "remote: Total 256 (delta 24), reused 21 (delta 9), pack-reused 218\u001b[K\n",
            "Receiving objects: 100% (256/256), 8.32 MiB | 10.18 MiB/s, done.\n",
            "Resolving deltas: 100% (151/151), done.\n",
            "/content/hyperface\n",
            "Fetching origin\n",
            "From https://github.com/alvaro-neira/hyperface\n",
            " * branch            aneira     -> FETCH_HEAD\n",
            "Already up to date.\n"
          ]
        }
      ]
    },
    {
      "cell_type": "code",
      "source": [
        "%cd /content/hyperface/scripts"
      ],
      "metadata": {
        "colab": {
          "base_uri": "https://localhost:8080/"
        },
        "id": "kQwgRqw6QFRd",
        "outputId": "587049e6-9533-48de-cb45-cd9153b725d4"
      },
      "execution_count": 6,
      "outputs": [
        {
          "output_type": "stream",
          "name": "stdout",
          "text": [
            "/content/hyperface/scripts\n"
          ]
        }
      ]
    },
    {
      "cell_type": "code",
      "source": [
        "import chainer\n",
        "\n",
        "import cv2\n",
        "import os\n",
        "import numpy as np\n",
        "\n",
        "import config\n",
        "\n",
        "# Disable type check in chainer\n",
        "import models\n",
        "\n",
        "os.environ[\"CHAINER_TYPE_CHECK\"] = \"0\"\n",
        "\n",
        "\n",
        "def _cvt_variable(v):\n",
        "    # Convert from chainer variable\n",
        "    if isinstance(v, chainer.variable.Variable):\n",
        "        v = v.data\n",
        "        if hasattr(v, 'get'):\n",
        "            v = v.get()\n",
        "    return v\n",
        "\n",
        "\n",
        "def short_hyperface(config_path, img_path, model_path):\n",
        "    # Load config\n",
        "    config.load(config_path)\n",
        "\n",
        "    # Define a model\n",
        "    model = models.HyperFaceModel()\n",
        "    model.train = False\n",
        "    model.report = False\n",
        "    model.backward = False\n",
        "\n",
        "    # Initialize model\n",
        "    chainer.serializers.load_npz(model_path, model)\n",
        "\n",
        "    # Setup GPU\n",
        "    if config.gpu >= 0:\n",
        "        chainer.cuda.check_cuda_available()\n",
        "        chainer.cuda.get_device(config.gpu).use()\n",
        "        model.to_gpu()\n",
        "        xp = chainer.cuda.cupy\n",
        "    else:\n",
        "        xp = np\n",
        "\n",
        "    # Load image file\n",
        "    img = cv2.imread(img_path)\n",
        "    if img is None or img.size == 0 or img.shape[0] == 0 or img.shape[1] == 0:\n",
        "        exit()\n",
        "    img = img.astype(np.float32) / 255.0  # [0:1]\n",
        "    img = cv2.resize(img, models.IMG_SIZE)\n",
        "    img = cv2.normalize(img, None, -0.5, 0.5, cv2.NORM_MINMAX)\n",
        "    img = np.transpose(img, (2, 0, 1))\n",
        "\n",
        "    # Create single batch\n",
        "    imgs = xp.asarray([img])\n",
        "    x = chainer.Variable(imgs)  # , volatile=True)\n",
        "\n",
        "    # Forward\n",
        "    y = model(x)\n",
        "\n",
        "    # Chainer.Variable -> np.ndarray\n",
        "    detection = _cvt_variable(y['detection'])\n",
        "    genders = _cvt_variable(y['gender'])\n",
        "\n",
        "    gender = genders[0]\n",
        "\n",
        "    if gender > 0.5:\n",
        "        return f\"Female, detection={detection[0]}\"\n",
        "    else:\n",
        "        return f\"Male, detection={detection[0]}\""
      ],
      "metadata": {
        "id": "2Qc98zu-QQBH"
      },
      "execution_count": 7,
      "outputs": []
    },
    {
      "cell_type": "code",
      "source": [
        "print(short_hyperface('/content/hyperface/scripts/config.json','/content/drive/MyDrive/ai/faces1/tv24horas_2021_12_07_01_face1.png','/content/drive/MyDrive/ai/model_epoch_190'))"
      ],
      "metadata": {
        "colab": {
          "base_uri": "https://localhost:8080/"
        },
        "id": "WuGpBmQ8QWGo",
        "outputId": "4d99c3ba-391e-45bf-fd9c-3f23f2c42be3"
      },
      "execution_count": 9,
      "outputs": [
        {
          "output_type": "stream",
          "name": "stdout",
          "text": [
            "Male, detection=0.9918990135192871\n"
          ]
        }
      ]
    },
    {
      "cell_type": "code",
      "source": [
        "for filename in os.listdir(\"/content/drive/MyDrive/ai/faces\"):\n",
        "    if not filename.endswith(\".png\"): \n",
        "        continue\n",
        "    img_path = os.path.join(\"/content/drive/MyDrive/ai/faces\", filename)\n",
        "    image_swapped = io.imread(f\"{img_path}\") \n",
        "    image_2 = cv2.cvtColor(image_swapped, cv2.COLOR_BGR2RGB)\n",
        "    cv2_imshow(image_2)\n",
        "    print(filename)\n",
        "    print(short_hyperface('/content/hyperface/scripts/config.json',img_path,'/content/drive/MyDrive/ai/model_epoch_190'))\n",
        "    print('\\n\\n') "
      ],
      "metadata": {
        "id": "rR75WAlDQear"
      },
      "execution_count": null,
      "outputs": []
    }
  ]
}