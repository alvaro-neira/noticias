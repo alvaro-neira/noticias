{
  "cells": [
    {
      "cell_type": "code",
      "execution_count": 1,
      "metadata": {
        "id": "MVGXySZSEFK3"
      },
      "outputs": [],
      "source": [
        "import cv2\n",
        "import csv\n",
        "import os\n",
        "import matplotlib.pyplot as plt\n",
        "from google.colab.patches import cv2_imshow # for image display\n",
        "import numpy as np\n",
        "import pandas as pd\n",
        "from skimage import io\n",
        "from PIL import Image "
      ]
    },
    {
      "cell_type": "code",
      "execution_count": 2,
      "metadata": {
        "colab": {
          "base_uri": "https://localhost:8080/"
        },
        "id": "utNT_QXsS8zO",
        "outputId": "5bdd7901-72d0-4e00-9db4-3286a7e91172"
      },
      "outputs": [
        {
          "output_type": "stream",
          "name": "stdout",
          "text": [
            "Mounted at /content/drive\n"
          ]
        }
      ],
      "source": [
        "from google.colab import drive\n",
        "drive.mount('/content/drive', force_remount=True)"
      ]
    },
    {
      "cell_type": "code",
      "execution_count": 3,
      "metadata": {
        "id": "2FpJjIiITJlH"
      },
      "outputs": [],
      "source": [
        "folder_img = '/content/drive/MyDrive/imagenes/'"
      ]
    },
    {
      "cell_type": "code",
      "execution_count": 4,
      "metadata": {
        "id": "q_AxTuNU5obj"
      },
      "outputs": [],
      "source": [
        "from google.colab import auth\n",
        "auth.authenticate_user()\n",
        "\n",
        "import gspread\n",
        "from oauth2client.client import GoogleCredentials\n",
        "\n",
        "gc = gspread.authorize(GoogleCredentials.get_application_default())"
      ]
    },
    {
      "cell_type": "code",
      "execution_count": 5,
      "metadata": {
        "id": "LEm9B0gX6T6q"
      },
      "outputs": [],
      "source": [
        "worksheet = gc.open('Etiquetado').sheet1"
      ]
    },
    {
      "cell_type": "code",
      "execution_count": 6,
      "metadata": {
        "colab": {
          "base_uri": "https://localhost:8080/"
        },
        "id": "xKoEkzrI-Leo",
        "outputId": "a761a94b-38cb-435a-fb9f-0766915f2bb6"
      },
      "outputs": [
        {
          "output_type": "stream",
          "name": "stdout",
          "text": [
            "/content\n",
            "Cloning into 'noticias'...\n",
            "remote: Enumerating objects: 324, done.\u001b[K\n",
            "remote: Counting objects: 100% (324/324), done.\u001b[K\n",
            "remote: Compressing objects: 100% (231/231), done.\u001b[K\n",
            "remote: Total 324 (delta 157), reused 248 (delta 84), pack-reused 0\u001b[K\n",
            "Receiving objects: 100% (324/324), 122.70 MiB | 23.11 MiB/s, done.\n",
            "Resolving deltas: 100% (157/157), done.\n",
            "/content/noticias\n",
            "Fetching origin\n",
            "From https://github.com/alvaro-neira/noticias\n",
            " * branch            exploring  -> FETCH_HEAD\n",
            "Already up to date.\n",
            "Submodule 'Gender-and-Age-Detection' (https://github.com/alvaro-neira/Gender-and-Age-Detection.git) registered for path 'Gender-and-Age-Detection'\n",
            "Cloning into '/content/noticias/Gender-and-Age-Detection'...\n",
            "Submodule path 'Gender-and-Age-Detection': checked out 'b570b6f4c7f27af2b9c8f2fe36ba112b42f4dcb2'\n"
          ]
        }
      ],
      "source": [
        "%cd /content/\n",
        "!rm -rf noticias\n",
        "!git clone https://github.com/alvaro-neira/noticias.git --branch exploring\n",
        "%cd noticias/\n",
        "!git fetch --all\n",
        "!git pull origin exploring\n",
        "!git submodule init\n",
        "!git submodule update"
      ]
    },
    {
      "cell_type": "code",
      "execution_count": 11,
      "metadata": {
        "id": "kIDuUUjYak3p"
      },
      "outputs": [],
      "source": [
        "from gender_and_age import GenderAndAge"
      ]
    },
    {
      "cell_type": "code",
      "execution_count": 12,
      "metadata": {
        "id": "3D9l6H5mYKy3"
      },
      "outputs": [],
      "source": [
        "gaa = GenderAndAge('/content/noticias/Gender-and-Age-Detection')"
      ]
    },
    {
      "cell_type": "code",
      "execution_count": 13,
      "metadata": {
        "colab": {
          "base_uri": "https://localhost:8080/",
          "height": 235
        },
        "id": "ygSxNxZb6gFj",
        "outputId": "df47a945-ba05-4c7f-80a2-119bccc315fb"
      },
      "outputs": [
        {
          "output_type": "error",
          "ename": "TypeError",
          "evalue": "ignored",
          "traceback": [
            "\u001b[0;31m---------------------------------------------------------------------------\u001b[0m",
            "\u001b[0;31mTypeError\u001b[0m                                 Traceback (most recent call last)",
            "\u001b[0;32m<ipython-input-13-552ca4cc4ea7>\u001b[0m in \u001b[0;36m<module>\u001b[0;34m()\u001b[0m\n\u001b[1;32m     12\u001b[0m     \u001b[0mimage_swapped\u001b[0m \u001b[0;34m=\u001b[0m \u001b[0mio\u001b[0m\u001b[0;34m.\u001b[0m\u001b[0mimread\u001b[0m\u001b[0;34m(\u001b[0m\u001b[0;34mf\"{folder_img}{base_name}_frame_{row[1]}.png\"\u001b[0m\u001b[0;34m)\u001b[0m\u001b[0;34m\u001b[0m\u001b[0;34m\u001b[0m\u001b[0m\n\u001b[1;32m     13\u001b[0m     \u001b[0mimage_2\u001b[0m \u001b[0;34m=\u001b[0m \u001b[0mcv2\u001b[0m\u001b[0;34m.\u001b[0m\u001b[0mcvtColor\u001b[0m\u001b[0;34m(\u001b[0m\u001b[0mimage_swapped\u001b[0m\u001b[0;34m,\u001b[0m \u001b[0mcv2\u001b[0m\u001b[0;34m.\u001b[0m\u001b[0mCOLOR_BGR2RGB\u001b[0m\u001b[0;34m)\u001b[0m\u001b[0;34m\u001b[0m\u001b[0;34m\u001b[0m\u001b[0m\n\u001b[0;32m---> 14\u001b[0;31m     \u001b[0mret\u001b[0m\u001b[0;34m,\u001b[0m\u001b[0mfra\u001b[0m\u001b[0;34m=\u001b[0m\u001b[0mgaa\u001b[0m\u001b[0;34m.\u001b[0m\u001b[0mdetect_for_colab\u001b[0m\u001b[0;34m(\u001b[0m\u001b[0mimage_2\u001b[0m\u001b[0;34m,\u001b[0m\u001b[0mbase_name\u001b[0m\u001b[0;34m)\u001b[0m\u001b[0;34m\u001b[0m\u001b[0;34m\u001b[0m\u001b[0m\n\u001b[0m\u001b[1;32m     15\u001b[0m     \u001b[0mfinal_frame\u001b[0m \u001b[0;34m=\u001b[0m \u001b[0mcv2\u001b[0m\u001b[0;34m.\u001b[0m\u001b[0mhconcat\u001b[0m\u001b[0;34m(\u001b[0m\u001b[0;34m(\u001b[0m\u001b[0mimage_2\u001b[0m\u001b[0;34m,\u001b[0m \u001b[0mfra\u001b[0m\u001b[0;34m)\u001b[0m\u001b[0;34m)\u001b[0m\u001b[0;34m\u001b[0m\u001b[0;34m\u001b[0m\u001b[0m\n\u001b[1;32m     16\u001b[0m     \u001b[0mcv2_imshow\u001b[0m\u001b[0;34m(\u001b[0m\u001b[0mcv2\u001b[0m\u001b[0;34m.\u001b[0m\u001b[0mresize\u001b[0m\u001b[0;34m(\u001b[0m\u001b[0mfinal_frame\u001b[0m\u001b[0;34m,\u001b[0m \u001b[0;34m(\u001b[0m\u001b[0;36m320\u001b[0m\u001b[0;34m,\u001b[0m\u001b[0;36m90\u001b[0m\u001b[0;34m)\u001b[0m\u001b[0;34m,\u001b[0m \u001b[0minterpolation\u001b[0m \u001b[0;34m=\u001b[0m \u001b[0mcv2\u001b[0m\u001b[0;34m.\u001b[0m\u001b[0mINTER_AREA\u001b[0m\u001b[0;34m)\u001b[0m\u001b[0;34m)\u001b[0m\u001b[0;34m\u001b[0m\u001b[0;34m\u001b[0m\u001b[0m\n",
            "\u001b[0;31mTypeError\u001b[0m: detect_for_colab() takes 2 positional arguments but 3 were given"
          ]
        }
      ],
      "source": [
        "# gaa.set_hyperparameter('conf_threshold', 0.7)\n",
        "\n",
        "# get_all_values gives a list of rows.\n",
        "rows = worksheet.get_all_values()\n",
        "\n",
        "df=pd.DataFrame.from_records(rows)\n",
        "\n",
        "for index, row in df.iterrows():    \n",
        "    if index==0:\n",
        "        continue\n",
        "    base_name, _ = os.path.splitext(row[0])        \n",
        "    image_swapped = io.imread(f\"{folder_img}{base_name}_frame_{row[1]}.png\") \n",
        "    image_2 = cv2.cvtColor(image_swapped, cv2.COLOR_BGR2RGB)\n",
        "    ret,fra=gaa.detect_for_colab(image_2,base_name)\n",
        "    final_frame = cv2.hconcat((image_2, fra))\n",
        "    cv2_imshow(cv2.resize(final_frame, (320,90), interpolation = cv2.INTER_AREA))\n",
        "    print(ret)\n",
        "    print('\\n')       \n",
        "        "
      ]
    }
  ],
  "metadata": {
    "accelerator": "GPU",
    "colab": {
      "collapsed_sections": [],
      "machine_shape": "hm",
      "name": "frames.ipynb",
      "provenance": []
    },
    "kernelspec": {
      "display_name": "Python 3",
      "name": "python3"
    },
    "language_info": {
      "name": "python"
    }
  },
  "nbformat": 4,
  "nbformat_minor": 0
}